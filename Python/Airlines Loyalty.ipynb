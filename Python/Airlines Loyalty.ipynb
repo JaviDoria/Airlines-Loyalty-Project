{
 "cells": [
  {
   "cell_type": "markdown",
   "metadata": {},
   "source": [
    "# AIRLINES LOYALTY SYSTEM"
   ]
  },
  {
   "cell_type": "markdown",
   "metadata": {},
   "source": [
    "    * Loading the first file and creating the DF"
   ]
  },
  {
   "cell_type": "code",
   "execution_count": 25,
   "metadata": {},
   "outputs": [
    {
     "data": {
      "text/html": [
       "<div>\n",
       "<style scoped>\n",
       "    .dataframe tbody tr th:only-of-type {\n",
       "        vertical-align: middle;\n",
       "    }\n",
       "\n",
       "    .dataframe tbody tr th {\n",
       "        vertical-align: top;\n",
       "    }\n",
       "\n",
       "    .dataframe thead th {\n",
       "        text-align: right;\n",
       "    }\n",
       "</style>\n",
       "<table border=\"1\" class=\"dataframe\">\n",
       "  <thead>\n",
       "    <tr style=\"text-align: right;\">\n",
       "      <th></th>\n",
       "      <th>Loyalty Number</th>\n",
       "      <th>Country</th>\n",
       "      <th>Province</th>\n",
       "      <th>City</th>\n",
       "      <th>Postal Code</th>\n",
       "      <th>Gender</th>\n",
       "      <th>Education</th>\n",
       "      <th>Salary</th>\n",
       "      <th>Marital Status</th>\n",
       "      <th>Loyalty Card</th>\n",
       "      <th>CLV</th>\n",
       "      <th>Enrollment Type</th>\n",
       "      <th>Enrollment Year</th>\n",
       "      <th>Enrollment Month</th>\n",
       "      <th>Cancellation Year</th>\n",
       "      <th>Cancellation Month</th>\n",
       "    </tr>\n",
       "  </thead>\n",
       "  <tbody>\n",
       "    <tr>\n",
       "      <th>0</th>\n",
       "      <td>480934</td>\n",
       "      <td>Canada</td>\n",
       "      <td>Ontario</td>\n",
       "      <td>Toronto</td>\n",
       "      <td>M2Z 4K1</td>\n",
       "      <td>Female</td>\n",
       "      <td>Bachelor</td>\n",
       "      <td>83236.0</td>\n",
       "      <td>Married</td>\n",
       "      <td>Star</td>\n",
       "      <td>383914.0</td>\n",
       "      <td>Standard</td>\n",
       "      <td>2016.0</td>\n",
       "      <td>2.0</td>\n",
       "      <td>0.0</td>\n",
       "      <td>0.0</td>\n",
       "    </tr>\n",
       "    <tr>\n",
       "      <th>1</th>\n",
       "      <td>549612</td>\n",
       "      <td>Canada</td>\n",
       "      <td>Alberta</td>\n",
       "      <td>Edmonton</td>\n",
       "      <td>T3G 6Y6</td>\n",
       "      <td>Male</td>\n",
       "      <td>College</td>\n",
       "      <td>0.0</td>\n",
       "      <td>Divorced</td>\n",
       "      <td>Star</td>\n",
       "      <td>383961.0</td>\n",
       "      <td>Standard</td>\n",
       "      <td>2016.0</td>\n",
       "      <td>3.0</td>\n",
       "      <td>0.0</td>\n",
       "      <td>0.0</td>\n",
       "    </tr>\n",
       "    <tr>\n",
       "      <th>2</th>\n",
       "      <td>429460</td>\n",
       "      <td>Canada</td>\n",
       "      <td>British Columbia</td>\n",
       "      <td>Vancouver</td>\n",
       "      <td>V6E 3D9</td>\n",
       "      <td>Male</td>\n",
       "      <td>College</td>\n",
       "      <td>0.0</td>\n",
       "      <td>Single</td>\n",
       "      <td>Star</td>\n",
       "      <td>383975.0</td>\n",
       "      <td>Standard</td>\n",
       "      <td>2014.0</td>\n",
       "      <td>7.0</td>\n",
       "      <td>2018.0</td>\n",
       "      <td>1.0</td>\n",
       "    </tr>\n",
       "    <tr>\n",
       "      <th>3</th>\n",
       "      <td>608370</td>\n",
       "      <td>Canada</td>\n",
       "      <td>Ontario</td>\n",
       "      <td>Toronto</td>\n",
       "      <td>P1W 1K4</td>\n",
       "      <td>Male</td>\n",
       "      <td>College</td>\n",
       "      <td>0.0</td>\n",
       "      <td>Single</td>\n",
       "      <td>Star</td>\n",
       "      <td>383975.0</td>\n",
       "      <td>Standard</td>\n",
       "      <td>2013.0</td>\n",
       "      <td>2.0</td>\n",
       "      <td>0.0</td>\n",
       "      <td>0.0</td>\n",
       "    </tr>\n",
       "    <tr>\n",
       "      <th>4</th>\n",
       "      <td>530508</td>\n",
       "      <td>Canada</td>\n",
       "      <td>Quebec</td>\n",
       "      <td>Hull</td>\n",
       "      <td>J8Y 3Z5</td>\n",
       "      <td>Male</td>\n",
       "      <td>Bachelor</td>\n",
       "      <td>103495.0</td>\n",
       "      <td>Married</td>\n",
       "      <td>Star</td>\n",
       "      <td>384279.0</td>\n",
       "      <td>Standard</td>\n",
       "      <td>2014.0</td>\n",
       "      <td>10.0</td>\n",
       "      <td>0.0</td>\n",
       "      <td>0.0</td>\n",
       "    </tr>\n",
       "  </tbody>\n",
       "</table>\n",
       "</div>"
      ],
      "text/plain": [
       "  Loyalty Number Country          Province       City Postal Code  Gender  \\\n",
       "0         480934  Canada           Ontario    Toronto     M2Z 4K1  Female   \n",
       "1         549612  Canada           Alberta   Edmonton     T3G 6Y6    Male   \n",
       "2         429460  Canada  British Columbia  Vancouver     V6E 3D9    Male   \n",
       "3         608370  Canada           Ontario    Toronto     P1W 1K4    Male   \n",
       "4         530508  Canada            Quebec       Hull     J8Y 3Z5    Male   \n",
       "\n",
       "  Education    Salary Marital Status Loyalty Card       CLV Enrollment Type  \\\n",
       "0  Bachelor   83236.0        Married         Star  383914.0        Standard   \n",
       "1   College       0.0       Divorced         Star  383961.0        Standard   \n",
       "2   College       0.0         Single         Star  383975.0        Standard   \n",
       "3   College       0.0         Single         Star  383975.0        Standard   \n",
       "4  Bachelor  103495.0        Married         Star  384279.0        Standard   \n",
       "\n",
       "   Enrollment Year  Enrollment Month  Cancellation Year  Cancellation Month  \n",
       "0           2016.0               2.0                0.0                 0.0  \n",
       "1           2016.0               3.0                0.0                 0.0  \n",
       "2           2014.0               7.0             2018.0                 1.0  \n",
       "3           2013.0               2.0                0.0                 0.0  \n",
       "4           2014.0              10.0                0.0                 0.0  "
      ]
     },
     "execution_count": 25,
     "metadata": {},
     "output_type": "execute_result"
    }
   ],
   "source": [
    "import pandas as pd\n",
    "df_customers= pd.read_csv(r\"C:\\Users\\javie\\OneDrive\\Escritorio\\Airline Loyalty Program\\DB_Airlines_customers.csv\")\n",
    "df_customers.head()"
   ]
  },
  {
   "cell_type": "markdown",
   "metadata": {},
   "source": [
    "    * Checking the DF's info"
   ]
  },
  {
   "cell_type": "code",
   "execution_count": 26,
   "metadata": {},
   "outputs": [
    {
     "name": "stdout",
     "output_type": "stream",
     "text": [
      "<class 'pandas.core.frame.DataFrame'>\n",
      "RangeIndex: 16739 entries, 0 to 16738\n",
      "Data columns (total 16 columns):\n",
      " #   Column              Non-Null Count  Dtype  \n",
      "---  ------              --------------  -----  \n",
      " 0   Loyalty Number      16739 non-null  object \n",
      " 1   Country             16737 non-null  object \n",
      " 2   Province            16737 non-null  object \n",
      " 3   City                16737 non-null  object \n",
      " 4   Postal Code         16737 non-null  object \n",
      " 5   Gender              16737 non-null  object \n",
      " 6   Education           16737 non-null  object \n",
      " 7   Salary              16738 non-null  float64\n",
      " 8   Marital Status      16737 non-null  object \n",
      " 9   Loyalty Card        16737 non-null  object \n",
      " 10  CLV                 16737 non-null  float64\n",
      " 11  Enrollment Type     16737 non-null  object \n",
      " 12  Enrollment Year     16737 non-null  float64\n",
      " 13  Enrollment Month    16737 non-null  float64\n",
      " 14  Cancellation Year   16738 non-null  float64\n",
      " 15  Cancellation Month  16738 non-null  float64\n",
      "dtypes: float64(6), object(10)\n",
      "memory usage: 2.0+ MB\n"
     ]
    }
   ],
   "source": [
    "df_customers.info()"
   ]
  },
  {
   "cell_type": "markdown",
   "metadata": {},
   "source": [
    "    * Loading the second file and creating the second DF"
   ]
  },
  {
   "cell_type": "code",
   "execution_count": 27,
   "metadata": {},
   "outputs": [
    {
     "data": {
      "text/html": [
       "<div>\n",
       "<style scoped>\n",
       "    .dataframe tbody tr th:only-of-type {\n",
       "        vertical-align: middle;\n",
       "    }\n",
       "\n",
       "    .dataframe tbody tr th {\n",
       "        vertical-align: top;\n",
       "    }\n",
       "\n",
       "    .dataframe thead th {\n",
       "        text-align: right;\n",
       "    }\n",
       "</style>\n",
       "<table border=\"1\" class=\"dataframe\">\n",
       "  <thead>\n",
       "    <tr style=\"text-align: right;\">\n",
       "      <th></th>\n",
       "      <th>Loyalty Number</th>\n",
       "      <th>Year</th>\n",
       "      <th>Month</th>\n",
       "      <th>Total Flights</th>\n",
       "      <th>Distance</th>\n",
       "      <th>Points Accumulated</th>\n",
       "      <th>Points Redeemed</th>\n",
       "      <th>Dollar Cost Points Redeemed</th>\n",
       "    </tr>\n",
       "  </thead>\n",
       "  <tbody>\n",
       "    <tr>\n",
       "      <th>0</th>\n",
       "      <td>100590</td>\n",
       "      <td>2018</td>\n",
       "      <td>6</td>\n",
       "      <td>12</td>\n",
       "      <td>15276</td>\n",
       "      <td>22914.0</td>\n",
       "      <td>0</td>\n",
       "      <td>0</td>\n",
       "    </tr>\n",
       "    <tr>\n",
       "      <th>1</th>\n",
       "      <td>100590</td>\n",
       "      <td>2018</td>\n",
       "      <td>7</td>\n",
       "      <td>12</td>\n",
       "      <td>9168</td>\n",
       "      <td>13752.0</td>\n",
       "      <td>0</td>\n",
       "      <td>0</td>\n",
       "    </tr>\n",
       "    <tr>\n",
       "      <th>2</th>\n",
       "      <td>100590</td>\n",
       "      <td>2018</td>\n",
       "      <td>5</td>\n",
       "      <td>4</td>\n",
       "      <td>6504</td>\n",
       "      <td>9756.0</td>\n",
       "      <td>0</td>\n",
       "      <td>0</td>\n",
       "    </tr>\n",
       "    <tr>\n",
       "      <th>3</th>\n",
       "      <td>100590</td>\n",
       "      <td>2018</td>\n",
       "      <td>10</td>\n",
       "      <td>0</td>\n",
       "      <td>0</td>\n",
       "      <td>0.0</td>\n",
       "      <td>512</td>\n",
       "      <td>92</td>\n",
       "    </tr>\n",
       "    <tr>\n",
       "      <th>4</th>\n",
       "      <td>100590</td>\n",
       "      <td>2018</td>\n",
       "      <td>2</td>\n",
       "      <td>0</td>\n",
       "      <td>0</td>\n",
       "      <td>0.0</td>\n",
       "      <td>0</td>\n",
       "      <td>0</td>\n",
       "    </tr>\n",
       "  </tbody>\n",
       "</table>\n",
       "</div>"
      ],
      "text/plain": [
       "   Loyalty Number  Year  Month  Total Flights  Distance  Points Accumulated  \\\n",
       "0          100590  2018      6             12     15276             22914.0   \n",
       "1          100590  2018      7             12      9168             13752.0   \n",
       "2          100590  2018      5              4      6504              9756.0   \n",
       "3          100590  2018     10              0         0                 0.0   \n",
       "4          100590  2018      2              0         0                 0.0   \n",
       "\n",
       "   Points Redeemed  Dollar Cost Points Redeemed  \n",
       "0                0                            0  \n",
       "1                0                            0  \n",
       "2                0                            0  \n",
       "3              512                           92  \n",
       "4                0                            0  "
      ]
     },
     "execution_count": 27,
     "metadata": {},
     "output_type": "execute_result"
    }
   ],
   "source": [
    "df_movements = pd.read_csv(r\"C:\\Users\\javie\\OneDrive\\Escritorio\\Airline Loyalty Program\\DB_Customer Flight Activity.csv\")\n",
    "df_movements.head()"
   ]
  },
  {
   "cell_type": "markdown",
   "metadata": {},
   "source": [
    "    * Checking the DF's info"
   ]
  },
  {
   "cell_type": "code",
   "execution_count": 28,
   "metadata": {},
   "outputs": [
    {
     "name": "stdout",
     "output_type": "stream",
     "text": [
      "<class 'pandas.core.frame.DataFrame'>\n",
      "RangeIndex: 392936 entries, 0 to 392935\n",
      "Data columns (total 8 columns):\n",
      " #   Column                       Non-Null Count   Dtype  \n",
      "---  ------                       --------------   -----  \n",
      " 0   Loyalty Number               392936 non-null  int64  \n",
      " 1   Year                         392936 non-null  int64  \n",
      " 2   Month                        392936 non-null  int64  \n",
      " 3   Total Flights                392936 non-null  int64  \n",
      " 4   Distance                     392936 non-null  int64  \n",
      " 5   Points Accumulated           392936 non-null  float64\n",
      " 6   Points Redeemed              392936 non-null  int64  \n",
      " 7   Dollar Cost Points Redeemed  392936 non-null  int64  \n",
      "dtypes: float64(1), int64(7)\n",
      "memory usage: 24.0 MB\n"
     ]
    }
   ],
   "source": [
    "df_movements.info()\n"
   ]
  },
  {
   "cell_type": "markdown",
   "metadata": {},
   "source": [
    "    * I realized that the Loyalty Number column doesn't have the same datatype across both DataFrames, so I changed it to ensure compatibility and make the merge work."
   ]
  },
  {
   "cell_type": "code",
   "execution_count": 29,
   "metadata": {},
   "outputs": [],
   "source": [
    "df_movements['Loyalty Number'] = df_movements['Loyalty Number'].astype(str)\n"
   ]
  },
  {
   "cell_type": "markdown",
   "metadata": {},
   "source": [
    "    * Checking everything is ok now"
   ]
  },
  {
   "cell_type": "code",
   "execution_count": 30,
   "metadata": {},
   "outputs": [
    {
     "name": "stdout",
     "output_type": "stream",
     "text": [
      "<class 'pandas.core.frame.DataFrame'>\n",
      "RangeIndex: 392936 entries, 0 to 392935\n",
      "Data columns (total 8 columns):\n",
      " #   Column                       Non-Null Count   Dtype  \n",
      "---  ------                       --------------   -----  \n",
      " 0   Loyalty Number               392936 non-null  object \n",
      " 1   Year                         392936 non-null  int64  \n",
      " 2   Month                        392936 non-null  int64  \n",
      " 3   Total Flights                392936 non-null  int64  \n",
      " 4   Distance                     392936 non-null  int64  \n",
      " 5   Points Accumulated           392936 non-null  float64\n",
      " 6   Points Redeemed              392936 non-null  int64  \n",
      " 7   Dollar Cost Points Redeemed  392936 non-null  int64  \n",
      "dtypes: float64(1), int64(6), object(1)\n",
      "memory usage: 24.0+ MB\n"
     ]
    }
   ],
   "source": [
    "df_movements.info()\n"
   ]
  },
  {
   "cell_type": "markdown",
   "metadata": {},
   "source": [
    "    * Doing the merge I realize something must be wrong because got 0 rows as result....!!!"
   ]
  },
  {
   "cell_type": "code",
   "execution_count": 31,
   "metadata": {},
   "outputs": [
    {
     "data": {
      "text/plain": [
       "<bound method NDFrame.head of Empty DataFrame\n",
       "Columns: [Loyalty Number, Country, Province, City, Postal Code, Gender, Education, Salary, Marital Status, Loyalty Card, CLV, Enrollment Type, Enrollment Year, Enrollment Month, Cancellation Year, Cancellation Month, Year, Month, Total Flights, Distance, Points Accumulated, Points Redeemed, Dollar Cost Points Redeemed]\n",
       "Index: []\n",
       "\n",
       "[0 rows x 23 columns]>"
      ]
     },
     "execution_count": 31,
     "metadata": {},
     "output_type": "execute_result"
    }
   ],
   "source": [
    "df_merge= pd.merge(df_customers,df_movements, on=\"Loyalty Number\", how=\"inner\") \n",
    "df_merge.head"
   ]
  },
  {
   "cell_type": "markdown",
   "metadata": {},
   "source": [
    "    * Looking for possible errors, I found this: extra spaces or invisible characters.\n",
    "        The values may have additional spaces or invisible characters (such as line breaks).\n",
    "        Then I use this script to fixe it . "
   ]
  },
  {
   "cell_type": "code",
   "execution_count": 32,
   "metadata": {},
   "outputs": [],
   "source": [
    "df_customers['Loyalty Number'] = df_customers['Loyalty Number'].str.strip()\n",
    "df_movements['Loyalty Number'] = df_movements['Loyalty Number'].str.strip()"
   ]
  },
  {
   "cell_type": "markdown",
   "metadata": {},
   "source": [
    "    * Doing the merge again "
   ]
  },
  {
   "cell_type": "code",
   "execution_count": 33,
   "metadata": {},
   "outputs": [
    {
     "data": {
      "text/plain": [
       "<bound method NDFrame.head of        Loyalty Number Country  Province      City Postal Code  Gender  \\\n",
       "0              480934  Canada   Ontario   Toronto     M2Z 4K1  Female   \n",
       "1              480934  Canada   Ontario   Toronto     M2Z 4K1  Female   \n",
       "2              480934  Canada   Ontario   Toronto     M2Z 4K1  Female   \n",
       "3              480934  Canada   Ontario   Toronto     M2Z 4K1  Female   \n",
       "4              480934  Canada   Ontario   Toronto     M2Z 4K1  Female   \n",
       "...               ...     ...       ...       ...         ...     ...   \n",
       "392931         652627  Canada  Manitoba  Winnipeg     R2C 0M5  Female   \n",
       "392932         652627  Canada  Manitoba  Winnipeg     R2C 0M5  Female   \n",
       "392933         652627  Canada  Manitoba  Winnipeg     R2C 0M5  Female   \n",
       "392934         652627  Canada  Manitoba  Winnipeg     R2C 0M5  Female   \n",
       "392935         652627  Canada  Manitoba  Winnipeg     R2C 0M5  Female   \n",
       "\n",
       "       Education   Salary Marital Status Loyalty Card  ...  Enrollment Month  \\\n",
       "0       Bachelor  83236.0        Married         Star  ...               2.0   \n",
       "1       Bachelor  83236.0        Married         Star  ...               2.0   \n",
       "2       Bachelor  83236.0        Married         Star  ...               2.0   \n",
       "3       Bachelor  83236.0        Married         Star  ...               2.0   \n",
       "4       Bachelor  83236.0        Married         Star  ...               2.0   \n",
       "...          ...      ...            ...          ...  ...               ...   \n",
       "392931  Bachelor  75049.0        Married         Star  ...              12.0   \n",
       "392932  Bachelor  75049.0        Married         Star  ...              12.0   \n",
       "392933  Bachelor  75049.0        Married         Star  ...              12.0   \n",
       "392934  Bachelor  75049.0        Married         Star  ...              12.0   \n",
       "392935  Bachelor  75049.0        Married         Star  ...              12.0   \n",
       "\n",
       "       Cancellation Year  Cancellation Month  Year  Month  Total Flights  \\\n",
       "0                    0.0                 0.0  2018      7              5   \n",
       "1                    0.0                 0.0  2017      5              4   \n",
       "2                    0.0                 0.0  2017      6              4   \n",
       "3                    0.0                 0.0  2017      8              4   \n",
       "4                    0.0                 0.0  2018      4              4   \n",
       "...                  ...                 ...   ...    ...            ...   \n",
       "392931            2016.0                 8.0  2018      8              0   \n",
       "392932            2016.0                 8.0  2018      9              0   \n",
       "392933            2016.0                 8.0  2018     10              0   \n",
       "392934            2016.0                 8.0  2018     11              0   \n",
       "392935            2016.0                 8.0  2018     12              0   \n",
       "\n",
       "        Distance  Points Accumulated  Points Redeemed  \\\n",
       "0          11355             11355.0                0   \n",
       "1           4908              4908.0                0   \n",
       "2           6948              6948.0                0   \n",
       "3           5516              5516.0                0   \n",
       "4           4376              4376.0                0   \n",
       "...          ...                 ...              ...   \n",
       "392931         0                 0.0                0   \n",
       "392932         0                 0.0                0   \n",
       "392933         0                 0.0                0   \n",
       "392934         0                 0.0                0   \n",
       "392935         0                 0.0                0   \n",
       "\n",
       "        Dollar Cost Points Redeemed  \n",
       "0                                 0  \n",
       "1                                 0  \n",
       "2                                 0  \n",
       "3                                 0  \n",
       "4                                 0  \n",
       "...                             ...  \n",
       "392931                            0  \n",
       "392932                            0  \n",
       "392933                            0  \n",
       "392934                            0  \n",
       "392935                            0  \n",
       "\n",
       "[392936 rows x 23 columns]>"
      ]
     },
     "execution_count": 33,
     "metadata": {},
     "output_type": "execute_result"
    }
   ],
   "source": [
    "df_merge= pd.merge(df_customers,df_movements, on=\"Loyalty Number\", how=\"inner\") \n",
    "df_merge.head"
   ]
  },
  {
   "cell_type": "markdown",
   "metadata": {},
   "source": [
    "    * Let's see the DF info"
   ]
  },
  {
   "cell_type": "code",
   "execution_count": 34,
   "metadata": {},
   "outputs": [
    {
     "name": "stdout",
     "output_type": "stream",
     "text": [
      "<class 'pandas.core.frame.DataFrame'>\n",
      "RangeIndex: 392936 entries, 0 to 392935\n",
      "Data columns (total 23 columns):\n",
      " #   Column                       Non-Null Count   Dtype  \n",
      "---  ------                       --------------   -----  \n",
      " 0   Loyalty Number               392936 non-null  object \n",
      " 1   Country                      392936 non-null  object \n",
      " 2   Province                     392936 non-null  object \n",
      " 3   City                         392936 non-null  object \n",
      " 4   Postal Code                  392936 non-null  object \n",
      " 5   Gender                       392936 non-null  object \n",
      " 6   Education                    392936 non-null  object \n",
      " 7   Salary                       392936 non-null  float64\n",
      " 8   Marital Status               392936 non-null  object \n",
      " 9   Loyalty Card                 392936 non-null  object \n",
      " 10  CLV                          392936 non-null  float64\n",
      " 11  Enrollment Type              392936 non-null  object \n",
      " 12  Enrollment Year              392936 non-null  float64\n",
      " 13  Enrollment Month             392936 non-null  float64\n",
      " 14  Cancellation Year            392936 non-null  float64\n",
      " 15  Cancellation Month           392936 non-null  float64\n",
      " 16  Year                         392936 non-null  int64  \n",
      " 17  Month                        392936 non-null  int64  \n",
      " 18  Total Flights                392936 non-null  int64  \n",
      " 19  Distance                     392936 non-null  int64  \n",
      " 20  Points Accumulated           392936 non-null  float64\n",
      " 21  Points Redeemed              392936 non-null  int64  \n",
      " 22  Dollar Cost Points Redeemed  392936 non-null  int64  \n",
      "dtypes: float64(7), int64(6), object(10)\n",
      "memory usage: 69.0+ MB\n"
     ]
    }
   ],
   "source": [
    "df_merge.info()"
   ]
  },
  {
   "cell_type": "markdown",
   "metadata": {},
   "source": [
    "    * View card types available in the DF"
   ]
  },
  {
   "cell_type": "code",
   "execution_count": 35,
   "metadata": {},
   "outputs": [
    {
     "data": {
      "text/plain": [
       "array(['Star', 'Aurora', 'Nova'], dtype=object)"
      ]
     },
     "execution_count": 35,
     "metadata": {},
     "output_type": "execute_result"
    }
   ],
   "source": [
    "df_merge[\"Loyalty Card\"].unique()"
   ]
  },
  {
   "cell_type": "markdown",
   "metadata": {},
   "source": [
    "    * View the column Enrollment Type"
   ]
  },
  {
   "cell_type": "code",
   "execution_count": 36,
   "metadata": {},
   "outputs": [
    {
     "data": {
      "text/plain": [
       "array(['Standard', '2018 Promotion'], dtype=object)"
      ]
     },
     "execution_count": 36,
     "metadata": {},
     "output_type": "execute_result"
    }
   ],
   "source": [
    "df_merge[\"Enrollment Type\"].unique()"
   ]
  },
  {
   "cell_type": "markdown",
   "metadata": {},
   "source": [
    "    * View customers education level "
   ]
  },
  {
   "cell_type": "code",
   "execution_count": 37,
   "metadata": {},
   "outputs": [
    {
     "data": {
      "text/plain": [
       "array(['Bachelor', 'College', 'Master', 'High School or Below', 'Doctor'],\n",
       "      dtype=object)"
      ]
     },
     "execution_count": 37,
     "metadata": {},
     "output_type": "execute_result"
    }
   ],
   "source": [
    "df_merge[\"Education\"].unique()"
   ]
  },
  {
   "cell_type": "markdown",
   "metadata": {},
   "source": [
    "    * View the marital status"
   ]
  },
  {
   "cell_type": "code",
   "execution_count": 38,
   "metadata": {},
   "outputs": [
    {
     "data": {
      "text/plain": [
       "array(['Married', 'Divorced', 'Single'], dtype=object)"
      ]
     },
     "execution_count": 38,
     "metadata": {},
     "output_type": "execute_result"
    }
   ],
   "source": [
    "df_merge[\"Marital Status\"].unique()"
   ]
  },
  {
   "cell_type": "markdown",
   "metadata": {},
   "source": [
    "    * View the customer's gender available in the DF"
   ]
  },
  {
   "cell_type": "code",
   "execution_count": 39,
   "metadata": {},
   "outputs": [
    {
     "data": {
      "text/plain": [
       "array(['Female', 'Male'], dtype=object)"
      ]
     },
     "execution_count": 39,
     "metadata": {},
     "output_type": "execute_result"
    }
   ],
   "source": [
    "df_merge[\"Gender\"].unique()"
   ]
  },
  {
   "cell_type": "markdown",
   "metadata": {},
   "source": [
    "    * Show the TOP 30 customers with the most points accumulated"
   ]
  },
  {
   "cell_type": "code",
   "execution_count": 46,
   "metadata": {},
   "outputs": [
    {
     "data": {
      "text/html": [
       "<div>\n",
       "<style scoped>\n",
       "    .dataframe tbody tr th:only-of-type {\n",
       "        vertical-align: middle;\n",
       "    }\n",
       "\n",
       "    .dataframe tbody tr th {\n",
       "        vertical-align: top;\n",
       "    }\n",
       "\n",
       "    .dataframe thead th {\n",
       "        text-align: right;\n",
       "    }\n",
       "</style>\n",
       "<table border=\"1\" class=\"dataframe\">\n",
       "  <thead>\n",
       "    <tr style=\"text-align: right;\">\n",
       "      <th></th>\n",
       "      <th>Loyalty Number</th>\n",
       "      <th>Gender</th>\n",
       "      <th>Marital Status</th>\n",
       "      <th>Education</th>\n",
       "      <th>Points Accumulated</th>\n",
       "    </tr>\n",
       "  </thead>\n",
       "  <tbody>\n",
       "    <tr>\n",
       "      <th>0</th>\n",
       "      <td>689839</td>\n",
       "      <td>Male</td>\n",
       "      <td>Single</td>\n",
       "      <td>College</td>\n",
       "      <td>268287.0</td>\n",
       "    </tr>\n",
       "    <tr>\n",
       "      <th>1</th>\n",
       "      <td>893866</td>\n",
       "      <td>Female</td>\n",
       "      <td>Divorced</td>\n",
       "      <td>Master</td>\n",
       "      <td>252960.0</td>\n",
       "    </tr>\n",
       "    <tr>\n",
       "      <th>2</th>\n",
       "      <td>500248</td>\n",
       "      <td>Male</td>\n",
       "      <td>Married</td>\n",
       "      <td>Bachelor</td>\n",
       "      <td>238120.5</td>\n",
       "    </tr>\n",
       "    <tr>\n",
       "      <th>3</th>\n",
       "      <td>133324</td>\n",
       "      <td>Male</td>\n",
       "      <td>Married</td>\n",
       "      <td>Bachelor</td>\n",
       "      <td>233815.5</td>\n",
       "    </tr>\n",
       "    <tr>\n",
       "      <th>4</th>\n",
       "      <td>471015</td>\n",
       "      <td>Male</td>\n",
       "      <td>Married</td>\n",
       "      <td>Bachelor</td>\n",
       "      <td>232176.0</td>\n",
       "    </tr>\n",
       "    <tr>\n",
       "      <th>5</th>\n",
       "      <td>385092</td>\n",
       "      <td>Female</td>\n",
       "      <td>Married</td>\n",
       "      <td>Bachelor</td>\n",
       "      <td>231432.0</td>\n",
       "    </tr>\n",
       "    <tr>\n",
       "      <th>6</th>\n",
       "      <td>201273</td>\n",
       "      <td>Female</td>\n",
       "      <td>Married</td>\n",
       "      <td>High School or Below</td>\n",
       "      <td>225346.5</td>\n",
       "    </tr>\n",
       "    <tr>\n",
       "      <th>7</th>\n",
       "      <td>208961</td>\n",
       "      <td>Female</td>\n",
       "      <td>Married</td>\n",
       "      <td>College</td>\n",
       "      <td>225282.0</td>\n",
       "    </tr>\n",
       "    <tr>\n",
       "      <th>8</th>\n",
       "      <td>556492</td>\n",
       "      <td>Male</td>\n",
       "      <td>Single</td>\n",
       "      <td>College</td>\n",
       "      <td>224673.0</td>\n",
       "    </tr>\n",
       "    <tr>\n",
       "      <th>9</th>\n",
       "      <td>712114</td>\n",
       "      <td>Female</td>\n",
       "      <td>Married</td>\n",
       "      <td>Bachelor</td>\n",
       "      <td>220048.5</td>\n",
       "    </tr>\n",
       "    <tr>\n",
       "      <th>10</th>\n",
       "      <td>691077</td>\n",
       "      <td>Male</td>\n",
       "      <td>Married</td>\n",
       "      <td>Bachelor</td>\n",
       "      <td>219990.0</td>\n",
       "    </tr>\n",
       "    <tr>\n",
       "      <th>11</th>\n",
       "      <td>433857</td>\n",
       "      <td>Male</td>\n",
       "      <td>Married</td>\n",
       "      <td>Bachelor</td>\n",
       "      <td>218556.0</td>\n",
       "    </tr>\n",
       "    <tr>\n",
       "      <th>12</th>\n",
       "      <td>808399</td>\n",
       "      <td>Male</td>\n",
       "      <td>Divorced</td>\n",
       "      <td>Bachelor</td>\n",
       "      <td>216561.0</td>\n",
       "    </tr>\n",
       "    <tr>\n",
       "      <th>13</th>\n",
       "      <td>110065</td>\n",
       "      <td>Male</td>\n",
       "      <td>Single</td>\n",
       "      <td>Bachelor</td>\n",
       "      <td>211386.0</td>\n",
       "    </tr>\n",
       "    <tr>\n",
       "      <th>14</th>\n",
       "      <td>727091</td>\n",
       "      <td>Female</td>\n",
       "      <td>Divorced</td>\n",
       "      <td>Bachelor</td>\n",
       "      <td>211314.0</td>\n",
       "    </tr>\n",
       "    <tr>\n",
       "      <th>15</th>\n",
       "      <td>173343</td>\n",
       "      <td>Female</td>\n",
       "      <td>Married</td>\n",
       "      <td>Bachelor</td>\n",
       "      <td>210979.5</td>\n",
       "    </tr>\n",
       "    <tr>\n",
       "      <th>16</th>\n",
       "      <td>246421</td>\n",
       "      <td>Female</td>\n",
       "      <td>Married</td>\n",
       "      <td>Bachelor</td>\n",
       "      <td>210903.0</td>\n",
       "    </tr>\n",
       "    <tr>\n",
       "      <th>17</th>\n",
       "      <td>993170</td>\n",
       "      <td>Male</td>\n",
       "      <td>Married</td>\n",
       "      <td>Bachelor</td>\n",
       "      <td>210720.0</td>\n",
       "    </tr>\n",
       "    <tr>\n",
       "      <th>18</th>\n",
       "      <td>903641</td>\n",
       "      <td>Female</td>\n",
       "      <td>Married</td>\n",
       "      <td>Bachelor</td>\n",
       "      <td>210525.0</td>\n",
       "    </tr>\n",
       "    <tr>\n",
       "      <th>19</th>\n",
       "      <td>732304</td>\n",
       "      <td>Male</td>\n",
       "      <td>Married</td>\n",
       "      <td>Bachelor</td>\n",
       "      <td>209742.0</td>\n",
       "    </tr>\n",
       "    <tr>\n",
       "      <th>20</th>\n",
       "      <td>504867</td>\n",
       "      <td>Female</td>\n",
       "      <td>Married</td>\n",
       "      <td>Bachelor</td>\n",
       "      <td>209353.5</td>\n",
       "    </tr>\n",
       "    <tr>\n",
       "      <th>21</th>\n",
       "      <td>662045</td>\n",
       "      <td>Female</td>\n",
       "      <td>Married</td>\n",
       "      <td>Bachelor</td>\n",
       "      <td>207786.0</td>\n",
       "    </tr>\n",
       "    <tr>\n",
       "      <th>22</th>\n",
       "      <td>724071</td>\n",
       "      <td>Male</td>\n",
       "      <td>Single</td>\n",
       "      <td>Bachelor</td>\n",
       "      <td>206979.0</td>\n",
       "    </tr>\n",
       "    <tr>\n",
       "      <th>23</th>\n",
       "      <td>686397</td>\n",
       "      <td>Male</td>\n",
       "      <td>Married</td>\n",
       "      <td>College</td>\n",
       "      <td>206191.5</td>\n",
       "    </tr>\n",
       "    <tr>\n",
       "      <th>24</th>\n",
       "      <td>883376</td>\n",
       "      <td>Female</td>\n",
       "      <td>Single</td>\n",
       "      <td>High School or Below</td>\n",
       "      <td>206157.0</td>\n",
       "    </tr>\n",
       "    <tr>\n",
       "      <th>25</th>\n",
       "      <td>744789</td>\n",
       "      <td>Male</td>\n",
       "      <td>Single</td>\n",
       "      <td>Bachelor</td>\n",
       "      <td>205764.0</td>\n",
       "    </tr>\n",
       "    <tr>\n",
       "      <th>26</th>\n",
       "      <td>357059</td>\n",
       "      <td>Male</td>\n",
       "      <td>Single</td>\n",
       "      <td>Bachelor</td>\n",
       "      <td>205743.0</td>\n",
       "    </tr>\n",
       "    <tr>\n",
       "      <th>27</th>\n",
       "      <td>983416</td>\n",
       "      <td>Female</td>\n",
       "      <td>Single</td>\n",
       "      <td>High School or Below</td>\n",
       "      <td>205602.0</td>\n",
       "    </tr>\n",
       "    <tr>\n",
       "      <th>28</th>\n",
       "      <td>657842</td>\n",
       "      <td>Male</td>\n",
       "      <td>Married</td>\n",
       "      <td>Bachelor</td>\n",
       "      <td>205422.0</td>\n",
       "    </tr>\n",
       "    <tr>\n",
       "      <th>29</th>\n",
       "      <td>813455</td>\n",
       "      <td>Female</td>\n",
       "      <td>Married</td>\n",
       "      <td>Bachelor</td>\n",
       "      <td>205402.5</td>\n",
       "    </tr>\n",
       "  </tbody>\n",
       "</table>\n",
       "</div>"
      ],
      "text/plain": [
       "   Loyalty Number  Gender Marital Status             Education  \\\n",
       "0          689839    Male         Single               College   \n",
       "1          893866  Female       Divorced                Master   \n",
       "2          500248    Male        Married              Bachelor   \n",
       "3          133324    Male        Married              Bachelor   \n",
       "4          471015    Male        Married              Bachelor   \n",
       "5          385092  Female        Married              Bachelor   \n",
       "6          201273  Female        Married  High School or Below   \n",
       "7          208961  Female        Married               College   \n",
       "8          556492    Male         Single               College   \n",
       "9          712114  Female        Married              Bachelor   \n",
       "10         691077    Male        Married              Bachelor   \n",
       "11         433857    Male        Married              Bachelor   \n",
       "12         808399    Male       Divorced              Bachelor   \n",
       "13         110065    Male         Single              Bachelor   \n",
       "14         727091  Female       Divorced              Bachelor   \n",
       "15         173343  Female        Married              Bachelor   \n",
       "16         246421  Female        Married              Bachelor   \n",
       "17         993170    Male        Married              Bachelor   \n",
       "18         903641  Female        Married              Bachelor   \n",
       "19         732304    Male        Married              Bachelor   \n",
       "20         504867  Female        Married              Bachelor   \n",
       "21         662045  Female        Married              Bachelor   \n",
       "22         724071    Male         Single              Bachelor   \n",
       "23         686397    Male        Married               College   \n",
       "24         883376  Female         Single  High School or Below   \n",
       "25         744789    Male         Single              Bachelor   \n",
       "26         357059    Male         Single              Bachelor   \n",
       "27         983416  Female         Single  High School or Below   \n",
       "28         657842    Male        Married              Bachelor   \n",
       "29         813455  Female        Married              Bachelor   \n",
       "\n",
       "    Points Accumulated  \n",
       "0             268287.0  \n",
       "1             252960.0  \n",
       "2             238120.5  \n",
       "3             233815.5  \n",
       "4             232176.0  \n",
       "5             231432.0  \n",
       "6             225346.5  \n",
       "7             225282.0  \n",
       "8             224673.0  \n",
       "9             220048.5  \n",
       "10            219990.0  \n",
       "11            218556.0  \n",
       "12            216561.0  \n",
       "13            211386.0  \n",
       "14            211314.0  \n",
       "15            210979.5  \n",
       "16            210903.0  \n",
       "17            210720.0  \n",
       "18            210525.0  \n",
       "19            209742.0  \n",
       "20            209353.5  \n",
       "21            207786.0  \n",
       "22            206979.0  \n",
       "23            206191.5  \n",
       "24            206157.0  \n",
       "25            205764.0  \n",
       "26            205743.0  \n",
       "27            205602.0  \n",
       "28            205422.0  \n",
       "29            205402.5  "
      ]
     },
     "execution_count": 46,
     "metadata": {},
     "output_type": "execute_result"
    }
   ],
   "source": [
    "df_lnumber_by_points_accum = df_merge.groupby([\"Loyalty Number\"])[\"Points Accumulated\"].sum().reset_index()\n",
    "df_sorted_by_points_accum = df_lnumber_by_points_accum.sort_values(by=\"Points Accumulated\", ascending=False)\n",
    "df_sorted_by_points_accum_subset = df_merge[[\"Loyalty Number\", \"Gender\", \"Marital Status\", \"Education\"]].drop_duplicates().merge(\n",
    "    df_sorted_by_points_accum,on=\"Loyalty Number\",how=\"right\")\n",
    "df_sorted_by_points_accum_subset.head(30)\n"
   ]
  },
  {
   "cell_type": "markdown",
   "metadata": {},
   "source": [
    "    * Looking at the salary mean by education"
   ]
  },
  {
   "cell_type": "code",
   "execution_count": 18,
   "metadata": {},
   "outputs": [
    {
     "data": {
      "text/html": [
       "<div>\n",
       "<style scoped>\n",
       "    .dataframe tbody tr th:only-of-type {\n",
       "        vertical-align: middle;\n",
       "    }\n",
       "\n",
       "    .dataframe tbody tr th {\n",
       "        vertical-align: top;\n",
       "    }\n",
       "\n",
       "    .dataframe thead th {\n",
       "        text-align: right;\n",
       "    }\n",
       "</style>\n",
       "<table border=\"1\" class=\"dataframe\">\n",
       "  <thead>\n",
       "    <tr style=\"text-align: right;\">\n",
       "      <th></th>\n",
       "      <th>Education</th>\n",
       "      <th>Salary</th>\n",
       "    </tr>\n",
       "  </thead>\n",
       "  <tbody>\n",
       "    <tr>\n",
       "      <th>0</th>\n",
       "      <td>Bachelor</td>\n",
       "      <td>72851.99</td>\n",
       "    </tr>\n",
       "    <tr>\n",
       "      <th>1</th>\n",
       "      <td>College</td>\n",
       "      <td>0.00</td>\n",
       "    </tr>\n",
       "    <tr>\n",
       "      <th>2</th>\n",
       "      <td>Doctor</td>\n",
       "      <td>175992.24</td>\n",
       "    </tr>\n",
       "    <tr>\n",
       "      <th>3</th>\n",
       "      <td>High School or Below</td>\n",
       "      <td>60974.30</td>\n",
       "    </tr>\n",
       "    <tr>\n",
       "      <th>4</th>\n",
       "      <td>Master</td>\n",
       "      <td>103863.98</td>\n",
       "    </tr>\n",
       "  </tbody>\n",
       "</table>\n",
       "</div>"
      ],
      "text/plain": [
       "              Education     Salary\n",
       "0              Bachelor   72851.99\n",
       "1               College       0.00\n",
       "2                Doctor  175992.24\n",
       "3  High School or Below   60974.30\n",
       "4                Master  103863.98"
      ]
     },
     "execution_count": 18,
     "metadata": {},
     "output_type": "execute_result"
    }
   ],
   "source": [
    "salary_by_eduaction = round(df_merge.groupby([\"Education\"])[\"Salary\"].mean(),2)\n",
    "salary_by_eduaction = pd.DataFrame(salary_by_eduaction,columns=[\"Salary\"])\n",
    "salary_by_eduaction = salary_by_eduaction.reset_index()\n",
    "salary_by_eduaction[\"Salary\"] = salary_by_eduaction[\"Salary\"]\n",
    "salary_by_eduaction"
   ]
  },
  {
   "cell_type": "markdown",
   "metadata": {},
   "source": [
    "    * Let's create a bar plot with the salary_by_education data frame."
   ]
  },
  {
   "cell_type": "code",
   "execution_count": 19,
   "metadata": {},
   "outputs": [
    {
     "data": {
      "image/png": "[encoded data removed]",
      "text/plain": [
       "<Figure size 640x480 with 1 Axes>"
      ]
     },
     "metadata": {},
     "output_type": "display_data"
    }
   ],
   "source": [
    "import matplotlib.pyplot as plt\n",
    "import seaborn as sns \n",
    "salary_by_eduaction.groupby('Education')['Salary'].mean().plot(kind='bar', stacked=True,zorder=3)\n",
    "plt.title('Mean Salary by Education')\n",
    "plt.xticks(rotation=20)\n",
    "plt.grid(True)\n",
    "plt.show()"
   ]
  },
  {
   "cell_type": "markdown",
   "metadata": {},
   "source": [
    "    * Creating a data frame with total flights group by marital status"
   ]
  },
  {
   "cell_type": "code",
   "execution_count": 20,
   "metadata": {},
   "outputs": [
    {
     "data": {
      "text/html": [
       "<div>\n",
       "<style scoped>\n",
       "    .dataframe tbody tr th:only-of-type {\n",
       "        vertical-align: middle;\n",
       "    }\n",
       "\n",
       "    .dataframe tbody tr th {\n",
       "        vertical-align: top;\n",
       "    }\n",
       "\n",
       "    .dataframe thead th {\n",
       "        text-align: right;\n",
       "    }\n",
       "</style>\n",
       "<table border=\"1\" class=\"dataframe\">\n",
       "  <thead>\n",
       "    <tr style=\"text-align: right;\">\n",
       "      <th></th>\n",
       "      <th>Marital Status</th>\n",
       "      <th>Total Flights</th>\n",
       "    </tr>\n",
       "  </thead>\n",
       "  <tbody>\n",
       "    <tr>\n",
       "      <th>0</th>\n",
       "      <td>Divorced</td>\n",
       "      <td>75860</td>\n",
       "    </tr>\n",
       "    <tr>\n",
       "      <th>1</th>\n",
       "      <td>Married</td>\n",
       "      <td>295540</td>\n",
       "    </tr>\n",
       "    <tr>\n",
       "      <th>2</th>\n",
       "      <td>Single</td>\n",
       "      <td>137408</td>\n",
       "    </tr>\n",
       "  </tbody>\n",
       "</table>\n",
       "</div>"
      ],
      "text/plain": [
       "  Marital Status  Total Flights\n",
       "0       Divorced          75860\n",
       "1        Married         295540\n",
       "2         Single         137408"
      ]
     },
     "execution_count": 20,
     "metadata": {},
     "output_type": "execute_result"
    }
   ],
   "source": [
    "flights_by_maritals = df_merge.groupby([\"Marital Status\"])[\"Total Flights\"].sum()\n",
    "flights_by_maritals = pd.DataFrame(flights_by_maritals,columns=[\"Total Flights\"])\n",
    "flights_by_maritals = flights_by_maritals.reset_index()\n",
    "flights_by_maritals[\"Total Flights\"] = flights_by_maritals[\"Total Flights\"]\n",
    "flights_by_maritals"
   ]
  },
  {
   "cell_type": "markdown",
   "metadata": {},
   "source": [
    "    * Now a Pie chart to show the data frame flights_by_maritals"
   ]
  },
  {
   "cell_type": "code",
   "execution_count": 21,
   "metadata": {},
   "outputs": [
    {
     "data": {
      "image/png": "[encoded data removed]",
      "text/plain": [
       "<Figure size 1400x800 with 1 Axes>"
      ]
     },
     "metadata": {},
     "output_type": "display_data"
    }
   ],
   "source": [
    "import matplotlib.pyplot as plt\n",
    "plt.figure(figsize=(14, 8))\n",
    "explode = [0.01] * len(flights_by_maritals)\n",
    "plt.pie(flights_by_maritals['Total Flights'], labels=flights_by_maritals['Marital Status'], autopct='%1.1f%%',explode= explode)\n",
    "plt.title('TOTAL FLIGHTS BY MARITAL STATUS')\n",
    "plt.legend()\n",
    "plt.show()\n",
    "\n",
    "     "
   ]
  }
 ],
 "metadata": {
  "kernelspec": {
   "display_name": "Python 3",
   "language": "python",
   "name": "python3"
  },
  "language_info": {
   "codemirror_mode": {
    "name": "ipython",
    "version": 3
   },
   "file_extension": ".py",
   "mimetype": "text/x-python",
   "name": "python",
   "nbconvert_exporter": "python",
   "pygments_lexer": "ipython3",
   "version": "3.12.6"
  }
 },
 "nbformat": 4,
 "nbformat_minor": 2
}
