{
 "cells": [
  {
   "cell_type": "markdown",
   "metadata": {},
   "source": [
    "# AIRLINES LOYALTY SYSTEM"
   ]
  },
  {
   "cell_type": "markdown",
   "metadata": {},
   "source": [
    "    * Loading the first file and creating the DF"
   ]
  },
  {
   "cell_type": "code",
   "execution_count": 17,
   "metadata": {},
   "outputs": [
    {
     "data": {
      "text/html": [
       "<div>\n",
       "<style scoped>\n",
       "    .dataframe tbody tr th:only-of-type {\n",
       "        vertical-align: middle;\n",
       "    }\n",
       "\n",
       "    .dataframe tbody tr th {\n",
       "        vertical-align: top;\n",
       "    }\n",
       "\n",
       "    .dataframe thead th {\n",
       "        text-align: right;\n",
       "    }\n",
       "</style>\n",
       "<table border=\"1\" class=\"dataframe\">\n",
       "  <thead>\n",
       "    <tr style=\"text-align: right;\">\n",
       "      <th></th>\n",
       "      <th>Loyalty Number</th>\n",
       "      <th>Country</th>\n",
       "      <th>Province</th>\n",
       "      <th>City</th>\n",
       "      <th>Postal Code</th>\n",
       "      <th>Gender</th>\n",
       "      <th>Education</th>\n",
       "      <th>Salary</th>\n",
       "      <th>Marital Status</th>\n",
       "      <th>Loyalty Card</th>\n",
       "      <th>CLV</th>\n",
       "      <th>Enrollment Type</th>\n",
       "      <th>Enrollment Year</th>\n",
       "      <th>Enrollment Month</th>\n",
       "      <th>Cancellation Year</th>\n",
       "      <th>Cancellation Month</th>\n",
       "    </tr>\n",
       "  </thead>\n",
       "  <tbody>\n",
       "    <tr>\n",
       "      <th>0</th>\n",
       "      <td>480934</td>\n",
       "      <td>Canada</td>\n",
       "      <td>Ontario</td>\n",
       "      <td>Toronto</td>\n",
       "      <td>M2Z 4K1</td>\n",
       "      <td>Female</td>\n",
       "      <td>Bachelor</td>\n",
       "      <td>83236.0</td>\n",
       "      <td>Married</td>\n",
       "      <td>Star</td>\n",
       "      <td>383914.0</td>\n",
       "      <td>Standard</td>\n",
       "      <td>2016.0</td>\n",
       "      <td>2.0</td>\n",
       "      <td>0.0</td>\n",
       "      <td>0.0</td>\n",
       "    </tr>\n",
       "    <tr>\n",
       "      <th>1</th>\n",
       "      <td>549612</td>\n",
       "      <td>Canada</td>\n",
       "      <td>Alberta</td>\n",
       "      <td>Edmonton</td>\n",
       "      <td>T3G 6Y6</td>\n",
       "      <td>Male</td>\n",
       "      <td>College</td>\n",
       "      <td>0.0</td>\n",
       "      <td>Divorced</td>\n",
       "      <td>Star</td>\n",
       "      <td>383961.0</td>\n",
       "      <td>Standard</td>\n",
       "      <td>2016.0</td>\n",
       "      <td>3.0</td>\n",
       "      <td>0.0</td>\n",
       "      <td>0.0</td>\n",
       "    </tr>\n",
       "    <tr>\n",
       "      <th>2</th>\n",
       "      <td>429460</td>\n",
       "      <td>Canada</td>\n",
       "      <td>British Columbia</td>\n",
       "      <td>Vancouver</td>\n",
       "      <td>V6E 3D9</td>\n",
       "      <td>Male</td>\n",
       "      <td>College</td>\n",
       "      <td>0.0</td>\n",
       "      <td>Single</td>\n",
       "      <td>Star</td>\n",
       "      <td>383975.0</td>\n",
       "      <td>Standard</td>\n",
       "      <td>2014.0</td>\n",
       "      <td>7.0</td>\n",
       "      <td>2018.0</td>\n",
       "      <td>1.0</td>\n",
       "    </tr>\n",
       "    <tr>\n",
       "      <th>3</th>\n",
       "      <td>608370</td>\n",
       "      <td>Canada</td>\n",
       "      <td>Ontario</td>\n",
       "      <td>Toronto</td>\n",
       "      <td>P1W 1K4</td>\n",
       "      <td>Male</td>\n",
       "      <td>College</td>\n",
       "      <td>0.0</td>\n",
       "      <td>Single</td>\n",
       "      <td>Star</td>\n",
       "      <td>383975.0</td>\n",
       "      <td>Standard</td>\n",
       "      <td>2013.0</td>\n",
       "      <td>2.0</td>\n",
       "      <td>0.0</td>\n",
       "      <td>0.0</td>\n",
       "    </tr>\n",
       "    <tr>\n",
       "      <th>4</th>\n",
       "      <td>530508</td>\n",
       "      <td>Canada</td>\n",
       "      <td>Quebec</td>\n",
       "      <td>Hull</td>\n",
       "      <td>J8Y 3Z5</td>\n",
       "      <td>Male</td>\n",
       "      <td>Bachelor</td>\n",
       "      <td>103495.0</td>\n",
       "      <td>Married</td>\n",
       "      <td>Star</td>\n",
       "      <td>384279.0</td>\n",
       "      <td>Standard</td>\n",
       "      <td>2014.0</td>\n",
       "      <td>10.0</td>\n",
       "      <td>0.0</td>\n",
       "      <td>0.0</td>\n",
       "    </tr>\n",
       "  </tbody>\n",
       "</table>\n",
       "</div>"
      ],
      "text/plain": [
       "  Loyalty Number Country          Province       City Postal Code  Gender  \\\n",
       "0         480934  Canada           Ontario    Toronto     M2Z 4K1  Female   \n",
       "1         549612  Canada           Alberta   Edmonton     T3G 6Y6    Male   \n",
       "2         429460  Canada  British Columbia  Vancouver     V6E 3D9    Male   \n",
       "3         608370  Canada           Ontario    Toronto     P1W 1K4    Male   \n",
       "4         530508  Canada            Quebec       Hull     J8Y 3Z5    Male   \n",
       "\n",
       "  Education    Salary Marital Status Loyalty Card       CLV Enrollment Type  \\\n",
       "0  Bachelor   83236.0        Married         Star  383914.0        Standard   \n",
       "1   College       0.0       Divorced         Star  383961.0        Standard   \n",
       "2   College       0.0         Single         Star  383975.0        Standard   \n",
       "3   College       0.0         Single         Star  383975.0        Standard   \n",
       "4  Bachelor  103495.0        Married         Star  384279.0        Standard   \n",
       "\n",
       "   Enrollment Year  Enrollment Month  Cancellation Year  Cancellation Month  \n",
       "0           2016.0               2.0                0.0                 0.0  \n",
       "1           2016.0               3.0                0.0                 0.0  \n",
       "2           2014.0               7.0             2018.0                 1.0  \n",
       "3           2013.0               2.0                0.0                 0.0  \n",
       "4           2014.0              10.0                0.0                 0.0  "
      ]
     },
     "execution_count": 17,
     "metadata": {},
     "output_type": "execute_result"
    }
   ],
   "source": [
    "import pandas as pd\n",
    "df_customers= pd.read_csv(r\"C:\\Users\\javie\\OneDrive\\Escritorio\\Airline Loyalty Program\\DB_Airlines_customers.csv\")\n",
    "df_customers.head()"
   ]
  },
  {
   "cell_type": "markdown",
   "metadata": {},
   "source": [
    "    * Checking the DF's info"
   ]
  },
  {
   "cell_type": "code",
   "execution_count": 18,
   "metadata": {},
   "outputs": [
    {
     "name": "stdout",
     "output_type": "stream",
     "text": [
      "<class 'pandas.core.frame.DataFrame'>\n",
      "RangeIndex: 16739 entries, 0 to 16738\n",
      "Data columns (total 16 columns):\n",
      " #   Column              Non-Null Count  Dtype  \n",
      "---  ------              --------------  -----  \n",
      " 0   Loyalty Number      16739 non-null  object \n",
      " 1   Country             16737 non-null  object \n",
      " 2   Province            16737 non-null  object \n",
      " 3   City                16737 non-null  object \n",
      " 4   Postal Code         16737 non-null  object \n",
      " 5   Gender              16737 non-null  object \n",
      " 6   Education           16737 non-null  object \n",
      " 7   Salary              16738 non-null  float64\n",
      " 8   Marital Status      16737 non-null  object \n",
      " 9   Loyalty Card        16737 non-null  object \n",
      " 10  CLV                 16737 non-null  float64\n",
      " 11  Enrollment Type     16737 non-null  object \n",
      " 12  Enrollment Year     16737 non-null  float64\n",
      " 13  Enrollment Month    16737 non-null  float64\n",
      " 14  Cancellation Year   16738 non-null  float64\n",
      " 15  Cancellation Month  16738 non-null  float64\n",
      "dtypes: float64(6), object(10)\n",
      "memory usage: 2.0+ MB\n"
     ]
    }
   ],
   "source": [
    "df_customers.info()"
   ]
  },
  {
   "cell_type": "markdown",
   "metadata": {},
   "source": [
    "    * Loading the second file and creating the second DF"
   ]
  },
  {
   "cell_type": "code",
   "execution_count": 19,
   "metadata": {},
   "outputs": [
    {
     "data": {
      "text/html": [
       "<div>\n",
       "<style scoped>\n",
       "    .dataframe tbody tr th:only-of-type {\n",
       "        vertical-align: middle;\n",
       "    }\n",
       "\n",
       "    .dataframe tbody tr th {\n",
       "        vertical-align: top;\n",
       "    }\n",
       "\n",
       "    .dataframe thead th {\n",
       "        text-align: right;\n",
       "    }\n",
       "</style>\n",
       "<table border=\"1\" class=\"dataframe\">\n",
       "  <thead>\n",
       "    <tr style=\"text-align: right;\">\n",
       "      <th></th>\n",
       "      <th>Loyalty Number</th>\n",
       "      <th>Year</th>\n",
       "      <th>Month</th>\n",
       "      <th>Total Flights</th>\n",
       "      <th>Distance</th>\n",
       "      <th>Points Accumulated</th>\n",
       "      <th>Points Redeemed</th>\n",
       "      <th>Dollar Cost Points Redeemed</th>\n",
       "    </tr>\n",
       "  </thead>\n",
       "  <tbody>\n",
       "    <tr>\n",
       "      <th>0</th>\n",
       "      <td>100590</td>\n",
       "      <td>2018</td>\n",
       "      <td>6</td>\n",
       "      <td>12</td>\n",
       "      <td>15276</td>\n",
       "      <td>22914.0</td>\n",
       "      <td>0</td>\n",
       "      <td>0</td>\n",
       "    </tr>\n",
       "    <tr>\n",
       "      <th>1</th>\n",
       "      <td>100590</td>\n",
       "      <td>2018</td>\n",
       "      <td>7</td>\n",
       "      <td>12</td>\n",
       "      <td>9168</td>\n",
       "      <td>13752.0</td>\n",
       "      <td>0</td>\n",
       "      <td>0</td>\n",
       "    </tr>\n",
       "    <tr>\n",
       "      <th>2</th>\n",
       "      <td>100590</td>\n",
       "      <td>2018</td>\n",
       "      <td>5</td>\n",
       "      <td>4</td>\n",
       "      <td>6504</td>\n",
       "      <td>9756.0</td>\n",
       "      <td>0</td>\n",
       "      <td>0</td>\n",
       "    </tr>\n",
       "    <tr>\n",
       "      <th>3</th>\n",
       "      <td>100590</td>\n",
       "      <td>2018</td>\n",
       "      <td>10</td>\n",
       "      <td>0</td>\n",
       "      <td>0</td>\n",
       "      <td>0.0</td>\n",
       "      <td>512</td>\n",
       "      <td>92</td>\n",
       "    </tr>\n",
       "    <tr>\n",
       "      <th>4</th>\n",
       "      <td>100590</td>\n",
       "      <td>2018</td>\n",
       "      <td>2</td>\n",
       "      <td>0</td>\n",
       "      <td>0</td>\n",
       "      <td>0.0</td>\n",
       "      <td>0</td>\n",
       "      <td>0</td>\n",
       "    </tr>\n",
       "  </tbody>\n",
       "</table>\n",
       "</div>"
      ],
      "text/plain": [
       "   Loyalty Number  Year  Month  Total Flights  Distance  Points Accumulated  \\\n",
       "0          100590  2018      6             12     15276             22914.0   \n",
       "1          100590  2018      7             12      9168             13752.0   \n",
       "2          100590  2018      5              4      6504              9756.0   \n",
       "3          100590  2018     10              0         0                 0.0   \n",
       "4          100590  2018      2              0         0                 0.0   \n",
       "\n",
       "   Points Redeemed  Dollar Cost Points Redeemed  \n",
       "0                0                            0  \n",
       "1                0                            0  \n",
       "2                0                            0  \n",
       "3              512                           92  \n",
       "4                0                            0  "
      ]
     },
     "execution_count": 19,
     "metadata": {},
     "output_type": "execute_result"
    }
   ],
   "source": [
    "df_movements = pd.read_csv(r\"C:\\Users\\javie\\OneDrive\\Escritorio\\Airline Loyalty Program\\DB_Customer Flight Activity.csv\")\n",
    "df_movements.head()"
   ]
  },
  {
   "cell_type": "markdown",
   "metadata": {},
   "source": [
    "    * Checking the DF's info"
   ]
  },
  {
   "cell_type": "code",
   "execution_count": 20,
   "metadata": {},
   "outputs": [
    {
     "name": "stdout",
     "output_type": "stream",
     "text": [
      "<class 'pandas.core.frame.DataFrame'>\n",
      "RangeIndex: 392936 entries, 0 to 392935\n",
      "Data columns (total 8 columns):\n",
      " #   Column                       Non-Null Count   Dtype  \n",
      "---  ------                       --------------   -----  \n",
      " 0   Loyalty Number               392936 non-null  int64  \n",
      " 1   Year                         392936 non-null  int64  \n",
      " 2   Month                        392936 non-null  int64  \n",
      " 3   Total Flights                392936 non-null  int64  \n",
      " 4   Distance                     392936 non-null  int64  \n",
      " 5   Points Accumulated           392936 non-null  float64\n",
      " 6   Points Redeemed              392936 non-null  int64  \n",
      " 7   Dollar Cost Points Redeemed  392936 non-null  int64  \n",
      "dtypes: float64(1), int64(7)\n",
      "memory usage: 24.0 MB\n"
     ]
    }
   ],
   "source": [
    "df_movements.info()\n"
   ]
  },
  {
   "cell_type": "markdown",
   "metadata": {},
   "source": [
    "    * I realized that the Loyalty Number column doesn't have the same datatype across both DataFrames, so I changed it to ensure compatibility and make the merge work."
   ]
  },
  {
   "cell_type": "code",
   "execution_count": 21,
   "metadata": {},
   "outputs": [],
   "source": [
    "df_movements['Loyalty Number'] = df_movements['Loyalty Number'].astype(str)\n"
   ]
  },
  {
   "cell_type": "markdown",
   "metadata": {},
   "source": [
    "    * Checking everything is ok now"
   ]
  },
  {
   "cell_type": "code",
   "execution_count": 22,
   "metadata": {},
   "outputs": [
    {
     "name": "stdout",
     "output_type": "stream",
     "text": [
      "<class 'pandas.core.frame.DataFrame'>\n",
      "RangeIndex: 392936 entries, 0 to 392935\n",
      "Data columns (total 8 columns):\n",
      " #   Column                       Non-Null Count   Dtype  \n",
      "---  ------                       --------------   -----  \n",
      " 0   Loyalty Number               392936 non-null  object \n",
      " 1   Year                         392936 non-null  int64  \n",
      " 2   Month                        392936 non-null  int64  \n",
      " 3   Total Flights                392936 non-null  int64  \n",
      " 4   Distance                     392936 non-null  int64  \n",
      " 5   Points Accumulated           392936 non-null  float64\n",
      " 6   Points Redeemed              392936 non-null  int64  \n",
      " 7   Dollar Cost Points Redeemed  392936 non-null  int64  \n",
      "dtypes: float64(1), int64(6), object(1)\n",
      "memory usage: 24.0+ MB\n"
     ]
    }
   ],
   "source": [
    "df_movements.info()\n"
   ]
  },
  {
   "cell_type": "markdown",
   "metadata": {},
   "source": [
    "    * Doing the merge I realize something must be wrong because got 0 rows as result....!!!"
   ]
  },
  {
   "cell_type": "code",
   "execution_count": 23,
   "metadata": {},
   "outputs": [
    {
     "data": {
      "text/plain": [
       "<bound method NDFrame.head of Empty DataFrame\n",
       "Columns: [Loyalty Number, Country, Province, City, Postal Code, Gender, Education, Salary, Marital Status, Loyalty Card, CLV, Enrollment Type, Enrollment Year, Enrollment Month, Cancellation Year, Cancellation Month, Year, Month, Total Flights, Distance, Points Accumulated, Points Redeemed, Dollar Cost Points Redeemed]\n",
       "Index: []\n",
       "\n",
       "[0 rows x 23 columns]>"
      ]
     },
     "execution_count": 23,
     "metadata": {},
     "output_type": "execute_result"
    }
   ],
   "source": [
    "df_merge= pd.merge(df_customers,df_movements, on=\"Loyalty Number\", how=\"inner\") \n",
    "df_merge.head"
   ]
  },
  {
   "cell_type": "markdown",
   "metadata": {},
   "source": [
    "    * Looking for possible errors, I found this: extra spaces or invisible characters.\n",
    "        The values may have additional spaces or invisible characters (such as line breaks).\n",
    "        Then I use this script to fixe it . "
   ]
  },
  {
   "cell_type": "code",
   "execution_count": 24,
   "metadata": {},
   "outputs": [],
   "source": [
    "df_customers['Loyalty Number'] = df_customers['Loyalty Number'].str.strip()\n",
    "df_movements['Loyalty Number'] = df_movements['Loyalty Number'].str.strip()"
   ]
  },
  {
   "cell_type": "markdown",
   "metadata": {},
   "source": [
    "    * Doing the merge again "
   ]
  },
  {
   "cell_type": "code",
   "execution_count": 25,
   "metadata": {},
   "outputs": [
    {
     "data": {
      "text/plain": [
       "<bound method NDFrame.head of        Loyalty Number Country  Province      City Postal Code  Gender  \\\n",
       "0              480934  Canada   Ontario   Toronto     M2Z 4K1  Female   \n",
       "1              480934  Canada   Ontario   Toronto     M2Z 4K1  Female   \n",
       "2              480934  Canada   Ontario   Toronto     M2Z 4K1  Female   \n",
       "3              480934  Canada   Ontario   Toronto     M2Z 4K1  Female   \n",
       "4              480934  Canada   Ontario   Toronto     M2Z 4K1  Female   \n",
       "...               ...     ...       ...       ...         ...     ...   \n",
       "392931         652627  Canada  Manitoba  Winnipeg     R2C 0M5  Female   \n",
       "392932         652627  Canada  Manitoba  Winnipeg     R2C 0M5  Female   \n",
       "392933         652627  Canada  Manitoba  Winnipeg     R2C 0M5  Female   \n",
       "392934         652627  Canada  Manitoba  Winnipeg     R2C 0M5  Female   \n",
       "392935         652627  Canada  Manitoba  Winnipeg     R2C 0M5  Female   \n",
       "\n",
       "       Education   Salary Marital Status Loyalty Card  ...  Enrollment Month  \\\n",
       "0       Bachelor  83236.0        Married         Star  ...               2.0   \n",
       "1       Bachelor  83236.0        Married         Star  ...               2.0   \n",
       "2       Bachelor  83236.0        Married         Star  ...               2.0   \n",
       "3       Bachelor  83236.0        Married         Star  ...               2.0   \n",
       "4       Bachelor  83236.0        Married         Star  ...               2.0   \n",
       "...          ...      ...            ...          ...  ...               ...   \n",
       "392931  Bachelor  75049.0        Married         Star  ...              12.0   \n",
       "392932  Bachelor  75049.0        Married         Star  ...              12.0   \n",
       "392933  Bachelor  75049.0        Married         Star  ...              12.0   \n",
       "392934  Bachelor  75049.0        Married         Star  ...              12.0   \n",
       "392935  Bachelor  75049.0        Married         Star  ...              12.0   \n",
       "\n",
       "       Cancellation Year  Cancellation Month  Year  Month  Total Flights  \\\n",
       "0                    0.0                 0.0  2018      7              5   \n",
       "1                    0.0                 0.0  2017      5              4   \n",
       "2                    0.0                 0.0  2017      6              4   \n",
       "3                    0.0                 0.0  2017      8              4   \n",
       "4                    0.0                 0.0  2018      4              4   \n",
       "...                  ...                 ...   ...    ...            ...   \n",
       "392931            2016.0                 8.0  2018      8              0   \n",
       "392932            2016.0                 8.0  2018      9              0   \n",
       "392933            2016.0                 8.0  2018     10              0   \n",
       "392934            2016.0                 8.0  2018     11              0   \n",
       "392935            2016.0                 8.0  2018     12              0   \n",
       "\n",
       "        Distance  Points Accumulated  Points Redeemed  \\\n",
       "0          11355             11355.0                0   \n",
       "1           4908              4908.0                0   \n",
       "2           6948              6948.0                0   \n",
       "3           5516              5516.0                0   \n",
       "4           4376              4376.0                0   \n",
       "...          ...                 ...              ...   \n",
       "392931         0                 0.0                0   \n",
       "392932         0                 0.0                0   \n",
       "392933         0                 0.0                0   \n",
       "392934         0                 0.0                0   \n",
       "392935         0                 0.0                0   \n",
       "\n",
       "        Dollar Cost Points Redeemed  \n",
       "0                                 0  \n",
       "1                                 0  \n",
       "2                                 0  \n",
       "3                                 0  \n",
       "4                                 0  \n",
       "...                             ...  \n",
       "392931                            0  \n",
       "392932                            0  \n",
       "392933                            0  \n",
       "392934                            0  \n",
       "392935                            0  \n",
       "\n",
       "[392936 rows x 23 columns]>"
      ]
     },
     "execution_count": 25,
     "metadata": {},
     "output_type": "execute_result"
    }
   ],
   "source": [
    "df_merge= pd.merge(df_customers,df_movements, on=\"Loyalty Number\", how=\"inner\") \n",
    "df_merge.head"
   ]
  },
  {
   "cell_type": "markdown",
   "metadata": {},
   "source": [
    "    * Let's see the DF info"
   ]
  },
  {
   "cell_type": "code",
   "execution_count": 26,
   "metadata": {},
   "outputs": [
    {
     "name": "stdout",
     "output_type": "stream",
     "text": [
      "<class 'pandas.core.frame.DataFrame'>\n",
      "RangeIndex: 392936 entries, 0 to 392935\n",
      "Data columns (total 23 columns):\n",
      " #   Column                       Non-Null Count   Dtype  \n",
      "---  ------                       --------------   -----  \n",
      " 0   Loyalty Number               392936 non-null  object \n",
      " 1   Country                      392936 non-null  object \n",
      " 2   Province                     392936 non-null  object \n",
      " 3   City                         392936 non-null  object \n",
      " 4   Postal Code                  392936 non-null  object \n",
      " 5   Gender                       392936 non-null  object \n",
      " 6   Education                    392936 non-null  object \n",
      " 7   Salary                       392936 non-null  float64\n",
      " 8   Marital Status               392936 non-null  object \n",
      " 9   Loyalty Card                 392936 non-null  object \n",
      " 10  CLV                          392936 non-null  float64\n",
      " 11  Enrollment Type              392936 non-null  object \n",
      " 12  Enrollment Year              392936 non-null  float64\n",
      " 13  Enrollment Month             392936 non-null  float64\n",
      " 14  Cancellation Year            392936 non-null  float64\n",
      " 15  Cancellation Month           392936 non-null  float64\n",
      " 16  Year                         392936 non-null  int64  \n",
      " 17  Month                        392936 non-null  int64  \n",
      " 18  Total Flights                392936 non-null  int64  \n",
      " 19  Distance                     392936 non-null  int64  \n",
      " 20  Points Accumulated           392936 non-null  float64\n",
      " 21  Points Redeemed              392936 non-null  int64  \n",
      " 22  Dollar Cost Points Redeemed  392936 non-null  int64  \n",
      "dtypes: float64(7), int64(6), object(10)\n",
      "memory usage: 69.0+ MB\n"
     ]
    }
   ],
   "source": [
    "df_merge.info()"
   ]
  },
  {
   "cell_type": "markdown",
   "metadata": {},
   "source": [
    "    * View card types available in the DF"
   ]
  },
  {
   "cell_type": "code",
   "execution_count": 28,
   "metadata": {},
   "outputs": [
    {
     "data": {
      "text/plain": [
       "array(['Star', 'Aurora', 'Nova'], dtype=object)"
      ]
     },
     "execution_count": 28,
     "metadata": {},
     "output_type": "execute_result"
    }
   ],
   "source": [
    "df_merge[\"Loyalty Card\"].unique()"
   ]
  },
  {
   "cell_type": "markdown",
   "metadata": {},
   "source": [
    "    * View the column Enrollment Type"
   ]
  },
  {
   "cell_type": "code",
   "execution_count": 31,
   "metadata": {},
   "outputs": [
    {
     "data": {
      "text/plain": [
       "array(['Standard', '2018 Promotion'], dtype=object)"
      ]
     },
     "execution_count": 31,
     "metadata": {},
     "output_type": "execute_result"
    }
   ],
   "source": [
    "df_merge[\"Enrollment Type\"].unique()"
   ]
  },
  {
   "cell_type": "markdown",
   "metadata": {},
   "source": [
    "    * View customers education level "
   ]
  },
  {
   "cell_type": "code",
   "execution_count": 32,
   "metadata": {},
   "outputs": [
    {
     "data": {
      "text/plain": [
       "array(['Bachelor', 'College', 'Master', 'High School or Below', 'Doctor'],\n",
       "      dtype=object)"
      ]
     },
     "execution_count": 32,
     "metadata": {},
     "output_type": "execute_result"
    }
   ],
   "source": [
    "df_merge[\"Education\"].unique()"
   ]
  },
  {
   "cell_type": "markdown",
   "metadata": {},
   "source": [
    "    * View the marital status"
   ]
  },
  {
   "cell_type": "code",
   "execution_count": 33,
   "metadata": {},
   "outputs": [
    {
     "data": {
      "text/plain": [
       "array(['Married', 'Divorced', 'Single'], dtype=object)"
      ]
     },
     "execution_count": 33,
     "metadata": {},
     "output_type": "execute_result"
    }
   ],
   "source": [
    "df_merge[\"Marital Status\"].unique()"
   ]
  },
  {
   "cell_type": "markdown",
   "metadata": {},
   "source": [
    "    * View the customer's gender available in the DF"
   ]
  },
  {
   "cell_type": "code",
   "execution_count": 34,
   "metadata": {},
   "outputs": [
    {
     "data": {
      "text/plain": [
       "array(['Female', 'Male'], dtype=object)"
      ]
     },
     "execution_count": 34,
     "metadata": {},
     "output_type": "execute_result"
    }
   ],
   "source": [
    "df_merge[\"Gender\"].unique()"
   ]
  },
  {
   "cell_type": "markdown",
   "metadata": {},
   "source": [
    "    * Show the TOP 10 customers with the most points accumulated"
   ]
  },
  {
   "cell_type": "code",
   "execution_count": 37,
   "metadata": {},
   "outputs": [
    {
     "data": {
      "text/html": [
       "<div>\n",
       "<style scoped>\n",
       "    .dataframe tbody tr th:only-of-type {\n",
       "        vertical-align: middle;\n",
       "    }\n",
       "\n",
       "    .dataframe tbody tr th {\n",
       "        vertical-align: top;\n",
       "    }\n",
       "\n",
       "    .dataframe thead th {\n",
       "        text-align: right;\n",
       "    }\n",
       "</style>\n",
       "<table border=\"1\" class=\"dataframe\">\n",
       "  <thead>\n",
       "    <tr style=\"text-align: right;\">\n",
       "      <th></th>\n",
       "      <th>Loyalty Number</th>\n",
       "      <th>Points Accumulated</th>\n",
       "      <th>Gender</th>\n",
       "      <th>Marital Status</th>\n",
       "      <th>Education</th>\n",
       "    </tr>\n",
       "  </thead>\n",
       "  <tbody>\n",
       "    <tr>\n",
       "      <th>48520</th>\n",
       "      <td>797704</td>\n",
       "      <td>100926.0</td>\n",
       "      <td>Female</td>\n",
       "      <td>Married</td>\n",
       "      <td>Bachelor</td>\n",
       "    </tr>\n",
       "    <tr>\n",
       "      <th>338216</th>\n",
       "      <td>920326</td>\n",
       "      <td>100884.0</td>\n",
       "      <td>Male</td>\n",
       "      <td>Divorced</td>\n",
       "      <td>Bachelor</td>\n",
       "    </tr>\n",
       "    <tr>\n",
       "      <th>71022</th>\n",
       "      <td>689839</td>\n",
       "      <td>100296.0</td>\n",
       "      <td>Male</td>\n",
       "      <td>Single</td>\n",
       "      <td>College</td>\n",
       "    </tr>\n",
       "    <tr>\n",
       "      <th>46525</th>\n",
       "      <td>110065</td>\n",
       "      <td>97776.0</td>\n",
       "      <td>Male</td>\n",
       "      <td>Single</td>\n",
       "      <td>Bachelor</td>\n",
       "    </tr>\n",
       "    <tr>\n",
       "      <th>174774</th>\n",
       "      <td>728586</td>\n",
       "      <td>95214.0</td>\n",
       "      <td>Female</td>\n",
       "      <td>Married</td>\n",
       "      <td>Bachelor</td>\n",
       "    </tr>\n",
       "    <tr>\n",
       "      <th>361533</th>\n",
       "      <td>488130</td>\n",
       "      <td>89820.0</td>\n",
       "      <td>Female</td>\n",
       "      <td>Single</td>\n",
       "      <td>College</td>\n",
       "    </tr>\n",
       "    <tr>\n",
       "      <th>3112</th>\n",
       "      <td>366540</td>\n",
       "      <td>89676.0</td>\n",
       "      <td>Female</td>\n",
       "      <td>Married</td>\n",
       "      <td>Bachelor</td>\n",
       "    </tr>\n",
       "    <tr>\n",
       "      <th>115284</th>\n",
       "      <td>832983</td>\n",
       "      <td>88740.0</td>\n",
       "      <td>Male</td>\n",
       "      <td>Single</td>\n",
       "      <td>Bachelor</td>\n",
       "    </tr>\n",
       "    <tr>\n",
       "      <th>335119</th>\n",
       "      <td>724071</td>\n",
       "      <td>88668.0</td>\n",
       "      <td>Male</td>\n",
       "      <td>Single</td>\n",
       "      <td>Bachelor</td>\n",
       "    </tr>\n",
       "    <tr>\n",
       "      <th>245328</th>\n",
       "      <td>433857</td>\n",
       "      <td>88668.0</td>\n",
       "      <td>Male</td>\n",
       "      <td>Married</td>\n",
       "      <td>Bachelor</td>\n",
       "    </tr>\n",
       "    <tr>\n",
       "      <th>28811</th>\n",
       "      <td>471460</td>\n",
       "      <td>88596.0</td>\n",
       "      <td>Female</td>\n",
       "      <td>Married</td>\n",
       "      <td>Bachelor</td>\n",
       "    </tr>\n",
       "    <tr>\n",
       "      <th>217392</th>\n",
       "      <td>496675</td>\n",
       "      <td>88524.0</td>\n",
       "      <td>Female</td>\n",
       "      <td>Married</td>\n",
       "      <td>Bachelor</td>\n",
       "    </tr>\n",
       "    <tr>\n",
       "      <th>50231</th>\n",
       "      <td>480872</td>\n",
       "      <td>88344.0</td>\n",
       "      <td>Female</td>\n",
       "      <td>Single</td>\n",
       "      <td>Bachelor</td>\n",
       "    </tr>\n",
       "    <tr>\n",
       "      <th>341695</th>\n",
       "      <td>773739</td>\n",
       "      <td>87696.0</td>\n",
       "      <td>Male</td>\n",
       "      <td>Divorced</td>\n",
       "      <td>Bachelor</td>\n",
       "    </tr>\n",
       "    <tr>\n",
       "      <th>42759</th>\n",
       "      <td>246421</td>\n",
       "      <td>87480.0</td>\n",
       "      <td>Female</td>\n",
       "      <td>Married</td>\n",
       "      <td>Bachelor</td>\n",
       "    </tr>\n",
       "    <tr>\n",
       "      <th>361973</th>\n",
       "      <td>317137</td>\n",
       "      <td>87372.0</td>\n",
       "      <td>Female</td>\n",
       "      <td>Single</td>\n",
       "      <td>Bachelor</td>\n",
       "    </tr>\n",
       "    <tr>\n",
       "      <th>5541</th>\n",
       "      <td>342483</td>\n",
       "      <td>87228.0</td>\n",
       "      <td>Male</td>\n",
       "      <td>Single</td>\n",
       "      <td>College</td>\n",
       "    </tr>\n",
       "    <tr>\n",
       "      <th>182152</th>\n",
       "      <td>450995</td>\n",
       "      <td>87228.0</td>\n",
       "      <td>Male</td>\n",
       "      <td>Single</td>\n",
       "      <td>College</td>\n",
       "    </tr>\n",
       "    <tr>\n",
       "      <th>129185</th>\n",
       "      <td>663213</td>\n",
       "      <td>86976.0</td>\n",
       "      <td>Female</td>\n",
       "      <td>Married</td>\n",
       "      <td>Bachelor</td>\n",
       "    </tr>\n",
       "    <tr>\n",
       "      <th>187276</th>\n",
       "      <td>691077</td>\n",
       "      <td>86760.0</td>\n",
       "      <td>Male</td>\n",
       "      <td>Married</td>\n",
       "      <td>Bachelor</td>\n",
       "    </tr>\n",
       "    <tr>\n",
       "      <th>310560</th>\n",
       "      <td>621072</td>\n",
       "      <td>86148.0</td>\n",
       "      <td>Male</td>\n",
       "      <td>Married</td>\n",
       "      <td>Bachelor</td>\n",
       "    </tr>\n",
       "    <tr>\n",
       "      <th>265498</th>\n",
       "      <td>165339</td>\n",
       "      <td>85356.0</td>\n",
       "      <td>Male</td>\n",
       "      <td>Divorced</td>\n",
       "      <td>Bachelor</td>\n",
       "    </tr>\n",
       "    <tr>\n",
       "      <th>371096</th>\n",
       "      <td>541037</td>\n",
       "      <td>84816.0</td>\n",
       "      <td>Female</td>\n",
       "      <td>Married</td>\n",
       "      <td>Bachelor</td>\n",
       "    </tr>\n",
       "    <tr>\n",
       "      <th>368357</th>\n",
       "      <td>547442</td>\n",
       "      <td>84708.0</td>\n",
       "      <td>Female</td>\n",
       "      <td>Divorced</td>\n",
       "      <td>Bachelor</td>\n",
       "    </tr>\n",
       "    <tr>\n",
       "      <th>87754</th>\n",
       "      <td>214095</td>\n",
       "      <td>84546.0</td>\n",
       "      <td>Male</td>\n",
       "      <td>Single</td>\n",
       "      <td>Bachelor</td>\n",
       "    </tr>\n",
       "    <tr>\n",
       "      <th>273121</th>\n",
       "      <td>471015</td>\n",
       "      <td>84294.0</td>\n",
       "      <td>Male</td>\n",
       "      <td>Married</td>\n",
       "      <td>Bachelor</td>\n",
       "    </tr>\n",
       "    <tr>\n",
       "      <th>210186</th>\n",
       "      <td>523194</td>\n",
       "      <td>84126.0</td>\n",
       "      <td>Male</td>\n",
       "      <td>Married</td>\n",
       "      <td>Bachelor</td>\n",
       "    </tr>\n",
       "    <tr>\n",
       "      <th>133927</th>\n",
       "      <td>457077</td>\n",
       "      <td>83808.0</td>\n",
       "      <td>Female</td>\n",
       "      <td>Single</td>\n",
       "      <td>College</td>\n",
       "    </tr>\n",
       "    <tr>\n",
       "      <th>169095</th>\n",
       "      <td>140077</td>\n",
       "      <td>83664.0</td>\n",
       "      <td>Male</td>\n",
       "      <td>Single</td>\n",
       "      <td>High School or Below</td>\n",
       "    </tr>\n",
       "    <tr>\n",
       "      <th>10351</th>\n",
       "      <td>133324</td>\n",
       "      <td>83268.0</td>\n",
       "      <td>Male</td>\n",
       "      <td>Married</td>\n",
       "      <td>Bachelor</td>\n",
       "    </tr>\n",
       "  </tbody>\n",
       "</table>\n",
       "</div>"
      ],
      "text/plain": [
       "       Loyalty Number  Points Accumulated  Gender Marital Status  \\\n",
       "48520          797704            100926.0  Female        Married   \n",
       "338216         920326            100884.0    Male       Divorced   \n",
       "71022          689839            100296.0    Male         Single   \n",
       "46525          110065             97776.0    Male         Single   \n",
       "174774         728586             95214.0  Female        Married   \n",
       "361533         488130             89820.0  Female         Single   \n",
       "3112           366540             89676.0  Female        Married   \n",
       "115284         832983             88740.0    Male         Single   \n",
       "335119         724071             88668.0    Male         Single   \n",
       "245328         433857             88668.0    Male        Married   \n",
       "28811          471460             88596.0  Female        Married   \n",
       "217392         496675             88524.0  Female        Married   \n",
       "50231          480872             88344.0  Female         Single   \n",
       "341695         773739             87696.0    Male       Divorced   \n",
       "42759          246421             87480.0  Female        Married   \n",
       "361973         317137             87372.0  Female         Single   \n",
       "5541           342483             87228.0    Male         Single   \n",
       "182152         450995             87228.0    Male         Single   \n",
       "129185         663213             86976.0  Female        Married   \n",
       "187276         691077             86760.0    Male        Married   \n",
       "310560         621072             86148.0    Male        Married   \n",
       "265498         165339             85356.0    Male       Divorced   \n",
       "371096         541037             84816.0  Female        Married   \n",
       "368357         547442             84708.0  Female       Divorced   \n",
       "87754          214095             84546.0    Male         Single   \n",
       "273121         471015             84294.0    Male        Married   \n",
       "210186         523194             84126.0    Male        Married   \n",
       "133927         457077             83808.0  Female         Single   \n",
       "169095         140077             83664.0    Male         Single   \n",
       "10351          133324             83268.0    Male        Married   \n",
       "\n",
       "                   Education  \n",
       "48520               Bachelor  \n",
       "338216              Bachelor  \n",
       "71022                College  \n",
       "46525               Bachelor  \n",
       "174774              Bachelor  \n",
       "361533               College  \n",
       "3112                Bachelor  \n",
       "115284              Bachelor  \n",
       "335119              Bachelor  \n",
       "245328              Bachelor  \n",
       "28811               Bachelor  \n",
       "217392              Bachelor  \n",
       "50231               Bachelor  \n",
       "341695              Bachelor  \n",
       "42759               Bachelor  \n",
       "361973              Bachelor  \n",
       "5541                 College  \n",
       "182152               College  \n",
       "129185              Bachelor  \n",
       "187276              Bachelor  \n",
       "310560              Bachelor  \n",
       "265498              Bachelor  \n",
       "371096              Bachelor  \n",
       "368357              Bachelor  \n",
       "87754               Bachelor  \n",
       "273121              Bachelor  \n",
       "210186              Bachelor  \n",
       "133927               College  \n",
       "169095  High School or Below  \n",
       "10351               Bachelor  "
      ]
     },
     "execution_count": 37,
     "metadata": {},
     "output_type": "execute_result"
    }
   ],
   "source": [
    "df_sorted_by_points_accum = df_merge.sort_values(by=\"Points Accumulated\", ascending=False)\n",
    "df_sorted_by_points_accum_subset = df_sorted_by_points_accum[[\"Loyalty Number\", \"Points Accumulated\",\"Gender\",\"Marital Status\",\"Education\"]]\n",
    "df_sorted_by_points_accum_subset.head(30)\n"
   ]
  }
 ],
 "metadata": {
  "kernelspec": {
   "display_name": "Python 3",
   "language": "python",
   "name": "python3"
  },
  "language_info": {
   "codemirror_mode": {
    "name": "ipython",
    "version": 3
   },
   "file_extension": ".py",
   "mimetype": "text/x-python",
   "name": "python",
   "nbconvert_exporter": "python",
   "pygments_lexer": "ipython3",
   "version": "3.12.6"
  }
 },
 "nbformat": 4,
 "nbformat_minor": 2
}
