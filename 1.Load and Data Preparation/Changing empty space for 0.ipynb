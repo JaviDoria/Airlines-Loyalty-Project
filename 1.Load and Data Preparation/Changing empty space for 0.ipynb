{
 "cells": [
  {
   "cell_type": "code",
   "execution_count": null,
   "metadata": {},
   "outputs": [],
   "source": [
    "import pandas as pd\n",
    "\n",
    "df = pd.read_csv(r\"C:\\Users\\javie\\OneDrive\\Escritorio\\Airline Loyalty Program\\Customer Loyalty History.csv\")\n",
    "\n",
    "# Función para reemplazar espacios en blanco entre comas por 0\n",
    "def replace_blanks_with_zeros(cell):\n",
    "    if pd.isna(cell):\n",
    "        return cell\n",
    "    return ','.join(['0' if value.strip() == '' else value for value in cell.split(',')])\n",
    "\n",
    "# Aplicar la función a cada celda del DataFrame\n",
    "df = df.applymap(replace_blanks_with_zeros)\n",
    "\n",
    "df.to_csv(r\"C:\\Users\\javie\\OneDrive\\Escritorio\\Airline Loyalty Program\\Customer Loyalty History corrected.csv\", index=False)\n"
   ]
  },
  {
   "cell_type": "code",
   "execution_count": null,
   "metadata": {},
   "outputs": [],
   "source": [
    "import pandas as pd\n",
    "\n",
    "df = pd.read_csv(r\"C:\\Users\\javie\\OneDrive\\Escritorio\\Airline Loyalty Program\\Customer Loyalty History.csv\", dtype=str)\n",
    "\n",
    "def replace_trailing_blanks(row):\n",
    "    for i in reversed(range(len(row))):\n",
    "        if pd.isna(row[i]) or row[i].strip() == '':\n",
    "            row[i] = '0'\n",
    "        else:\n",
    "            break\n",
    "    return row\n",
    "\n",
    "df = df.apply(replace_trailing_blanks, axis=1)\n",
    "\n",
    "df.to_csv(r\"C:\\Users\\javie\\OneDrive\\Escritorio\\Airline Loyalty Program\\Customer Loyalty History corrected.csv\", index=False)\n"
   ]
  }
 ],
 "metadata": {
  "language_info": {
   "name": "python"
  }
 },
 "nbformat": 4,
 "nbformat_minor": 2
}
