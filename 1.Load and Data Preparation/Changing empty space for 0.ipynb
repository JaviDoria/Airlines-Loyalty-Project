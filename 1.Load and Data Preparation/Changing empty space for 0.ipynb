{
 "cells": [
  {
   "cell_type": "code",
   "execution_count": null,
   "metadata": {},
   "outputs": [],
   "source": [
    "import pandas as pd\n",
    "\n",
    "df = pd.read_csv(r\"C:\\Users\\javie\\OneDrive\\Escritorio\\Airline Loyalty Program\\Customer Loyalty History.csv\", dtype=str)\n",
    "\n",
    "def replace_trailing_blanks(row):\n",
    "    for i in reversed(range(len(row))):\n",
    "        if pd.isna(row[i]) or row[i].strip() == '':\n",
    "            row[i] = '0'\n",
    "        else:\n",
    "            break\n",
    "    return row\n",
    "\n",
    "df = df.apply(replace_trailing_blanks, axis=1)\n",
    "\n",
    "df.to_csv(r\"C:\\Users\\javie\\OneDrive\\Escritorio\\Airline Loyalty Program\\Customer Loyalty History corrected.csv\", index=False)\n"
   ]
  }
 ],
 "metadata": {
  "language_info": {
   "name": "python"
  }
 },
 "nbformat": 4,
 "nbformat_minor": 2
}
