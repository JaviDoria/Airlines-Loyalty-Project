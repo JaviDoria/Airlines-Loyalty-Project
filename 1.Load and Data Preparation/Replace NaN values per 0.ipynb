{
 "cells": [
  {
   "cell_type": "code",
   "execution_count": 1,
   "metadata": {},
   "outputs": [],
   "source": [
    "import pandas as pd\n",
    "\n",
    "df = pd.read_csv(r\"C:\\ProgramData\\MySQL\\MySQL Server 8.0\\Uploads\\Customer Loyalty History.csv\", dtype=str)\n",
    "\n",
    "numeric_columns = ['Salary', 'CLV', 'Enrollment Year', 'Enrollment Month', 'Cancellation Year', 'Cancellation Month']\n",
    "df[numeric_columns] = df[numeric_columns].fillna('0')\n",
    "\n",
    "df.to_csv(r\"C:\\ProgramData\\MySQL\\MySQL Server 8.0\\Uploads\\Customer Loyalty History corrected.csv\", index=False)\n"
   ]
  }
 ],
 "metadata": {
  "kernelspec": {
   "display_name": "Python 3",
   "language": "python",
   "name": "python3"
  },
  "language_info": {
   "codemirror_mode": {
    "name": "ipython",
    "version": 3
   },
   "file_extension": ".py",
   "mimetype": "text/x-python",
   "name": "python",
   "nbconvert_exporter": "python",
   "pygments_lexer": "ipython3",
   "version": "3.12.6"
  }
 },
 "nbformat": 4,
 "nbformat_minor": 2
}
